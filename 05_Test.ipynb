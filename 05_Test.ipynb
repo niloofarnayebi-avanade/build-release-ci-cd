{
 "cells": [
  {
   "cell_type": "code",
   "execution_count": 1,
   "metadata": {},
   "outputs": [
    {
     "name": "stdout",
     "output_type": "stream",
     "text": [
      "SDK version: 1.9.0\n"
     ]
    }
   ],
   "source": [
    "import azureml.core\n",
    "from azureml.core import Workspace, Experiment, Datastore\n",
    "from azureml.core.compute import AmlCompute\n",
    "from azureml.core.compute import ComputeTarget\n",
    "import os\n",
    "# Check core SDK version number\n",
    "print(\"SDK version:\", azureml.core.VERSION)\n",
    "\n",
    "from azureml.core.compute import AksCompute\n",
    "from azureml.core.webservice import Webservice, AksWebservice\n",
    "from azureml.core.image import ContainerImage\n",
    "import numpy as np\n",
    "import argparse\n",
    "import os\n",
    "import json\n",
    "\n",
    "\n",
    "from azureml.core.authentication import ServicePrincipalAuthentication\n"
   ]
  },
  {
   "cell_type": "code",
   "execution_count": 2,
   "metadata": {},
   "outputs": [],
   "source": [
    "tenant_id = 'e65922f9-4bd4-4f11-b1a3-48e89d75674e'\n",
    "application_id = '423b1df1-5286-4955-a6e7-fc416aea35d4'\n",
    "app_secret = 'v3d43JhbJ1x.A5mJ3hyS2GRD.O_ZC~FE6~'\n",
    "workspace_name = 'MLOps_template_ML'\n",
    "subscription_id = 'b198933e-f055-498f-958d-0726ab11eddb'\n",
    "resource_group = 'MLOps_template'\n",
    "aks_service_name = 'mnist-webapp-service-prod'"
   ]
  },
  {
   "cell_type": "code",
   "execution_count": 3,
   "metadata": {},
   "outputs": [],
   "source": [
    "service_principal = ServicePrincipalAuthentication(\n",
    "        tenant_id=tenant_id,\n",
    "        service_principal_id=application_id,\n",
    "        service_principal_password=app_secret)\n",
    "\n",
    "ws = Workspace.get(\n",
    "            name=workspace_name,\n",
    "            subscription_id=subscription_id,\n",
    "            resource_group=resource_group,\n",
    "            auth=service_principal)\n",
    "\n",
    "aks_service = Webservice(name = aks_service_name, workspace = ws)\n"
   ]
  },
  {
   "cell_type": "code",
   "execution_count": 15,
   "metadata": {},
   "outputs": [
    {
     "name": "stdout",
     "output_type": "stream",
     "text": [
      "[0, 1, 2, 4, 8, 1, 3, 6, 2, 2, 0, 8, 9, 8, 3, 6, 4, 2, 5, 2, 7, 1, 1, 4, 7, 6, 3, 3, 9, 4]\n"
     ]
    }
   ],
   "source": [
    "test_data = np.load('./TestDeployment/test_data.npy')\n",
    "\n",
    "test_samples = json.dumps({\"data\": test_data.tolist()})\n",
    "test_samples = bytes(test_samples, encoding='utf8')\n",
    "\n",
    "# predict using the deployed model\n",
    "result = aks_service.run(input_data=test_samples)\n",
    "\n",
    "print(result)\n"
   ]
  },
  {
   "cell_type": "code",
   "execution_count": 16,
   "metadata": {},
   "outputs": [
    {
     "name": "stdout",
     "output_type": "stream",
     "text": [
      "http://52.229.21.121:80/api/v1/service/mnist-webapp-service-prod/score\n",
      "('qSxvx33RBksICBtEaOGDy54s5iF1VTnz', 'OaJA90ArydxVvtG4kDwdLcc8LOkN0aV9')\n"
     ]
    }
   ],
   "source": [
    "print(aks_service.scoring_uri)\n",
    "print(aks_service.get_keys())"
   ]
  },
  {
   "cell_type": "markdown",
   "metadata": {},
   "source": [
    "### Activate telemetry\n",
    "We are going to activate telemetry on the deployed model. Then we will make another call which will end up being logged by both Application Insights and data collection."
   ]
  },
  {
   "cell_type": "code",
   "execution_count": 58,
   "metadata": {},
   "outputs": [],
   "source": [
    "web_service = Webservice(ws, aks_service_name)"
   ]
  },
  {
   "cell_type": "code",
   "execution_count": 59,
   "metadata": {},
   "outputs": [],
   "source": [
    "web_service.update(enable_app_insights=True, collect_model_data=True)"
   ]
  },
  {
   "cell_type": "code",
   "execution_count": 60,
   "metadata": {},
   "outputs": [
    {
     "name": "stdout",
     "output_type": "stream",
     "text": [
      "[0, 1, 2, 4, 8, 1, 3, 6, 2, 2, 0, 8, 9, 8, 3, 6, 4, 2, 5, 2, 7, 1, 1, 4, 7, 6, 3, 3, 9, 4]\n",
      "[0, 1, 2, 4, 8, 1, 3, 6, 2, 2, 0, 8, 9, 8, 3, 6, 4, 2, 5, 2, 7, 1, 1, 4, 7, 6, 3, 3, 9, 4]\n",
      "[0, 1, 2, 4, 8, 1, 3, 6, 2, 2, 0, 8, 9, 8, 3, 6, 4, 2, 5, 2, 7, 1, 1, 4, 7, 6, 3, 3, 9, 4]\n",
      "[0, 1, 2, 4, 8, 1, 3, 6, 2, 2, 0, 8, 9, 8, 3, 6, 4, 2, 5, 2, 7, 1, 1, 4, 7, 6, 3, 3, 9, 4]\n"
     ]
    }
   ],
   "source": [
    "print(aks_service.run(input_data=test_samples))\n",
    "print(aks_service.run(input_data=test_samples))\n",
    "print(aks_service.run(input_data=test_samples))\n",
    "print(aks_service.run(input_data=test_samples))"
   ]
  },
  {
   "cell_type": "code",
   "execution_count": null,
   "metadata": {},
   "outputs": [],
   "source": []
  }
 ],
 "metadata": {
  "kernelspec": {
   "display_name": "Python [conda env:amlmm] *",
   "language": "python",
   "name": "conda-env-amlmm-py"
  },
  "language_info": {
   "codemirror_mode": {
    "name": "ipython",
    "version": 3
   },
   "file_extension": ".py",
   "mimetype": "text/x-python",
   "name": "python",
   "nbconvert_exporter": "python",
   "pygments_lexer": "ipython3",
   "version": "3.7.6"
  }
 },
 "nbformat": 4,
 "nbformat_minor": 4
}
