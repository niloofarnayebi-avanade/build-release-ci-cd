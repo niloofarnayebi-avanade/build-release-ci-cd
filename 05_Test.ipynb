{
 "cells": [
  {
   "cell_type": "code",
   "execution_count": 1,
   "metadata": {},
   "outputs": [
    {
     "name": "stdout",
     "output_type": "stream",
     "text": [
      "SDK version: 1.9.0\n"
     ]
    }
   ],
   "source": [
    "import azureml.core\n",
    "from azureml.core import Workspace, Experiment, Datastore\n",
    "from azureml.core.compute import AmlCompute\n",
    "from azureml.core.compute import ComputeTarget\n",
    "import os\n",
    "# Check core SDK version number\n",
    "print(\"SDK version:\", azureml.core.VERSION)\n",
    "\n",
    "from azureml.core.compute import AksCompute\n",
    "from azureml.core.webservice import Webservice, AksWebservice\n",
    "from azureml.core.image import ContainerImage\n",
    "import numpy as np\n",
    "import argparse\n",
    "import os\n",
    "import json\n",
    "\n",
    "\n",
    "from azureml.core.authentication import ServicePrincipalAuthentication\n"
   ]
  },
  {
   "cell_type": "code",
   "execution_count": 29,
   "metadata": {},
   "outputs": [],
   "source": [
    "tenant_id = 'e65922f9-4bd4-4f11-b1a3-48e89d75674e'\n",
    "application_id = '423b1df1-5286-4955-a6e7-fc416aea35d4'\n",
    "app_secret = 'v3d43JhbJ1x.A5mJ3hyS2GRD.O_ZC~FE6~'\n",
    "workspace_name = 'MLOps_template_ML'\n",
    "subscription_id = 'b198933e-f055-498f-958d-0726ab11eddb'\n",
    "resource_group = 'MLOps_template'\n",
    "aks_service_name = 'mnist-webapp-service-prod'"
   ]
  },
  {
   "cell_type": "code",
   "execution_count": 50,
   "metadata": {},
   "outputs": [],
   "source": [
    "service_principal = ServicePrincipalAuthentication(\n",
    "        tenant_id=tenant_id,\n",
    "        service_principal_id=application_id,\n",
    "        service_principal_password=app_secret)\n",
    "\n",
    "ws = Workspace.get(\n",
    "            name=workspace_name,\n",
    "            subscription_id=subscription_id,\n",
    "            resource_group=resource_group,\n",
    "            auth=service_principal)\n",
    "\n",
    "aks_service = Webservice(name = aks_service_name, workspace = ws)\n"
   ]
  },
  {
   "cell_type": "code",
   "execution_count": 51,
   "metadata": {},
   "outputs": [
    {
     "data": {
      "text/plain": [
       "[0,\n",
       " 1,\n",
       " 2,\n",
       " 4,\n",
       " 8,\n",
       " 1,\n",
       " 3,\n",
       " 6,\n",
       " 2,\n",
       " 2,\n",
       " 0,\n",
       " 8,\n",
       " 9,\n",
       " 8,\n",
       " 3,\n",
       " 6,\n",
       " 4,\n",
       " 2,\n",
       " 5,\n",
       " 2,\n",
       " 7,\n",
       " 1,\n",
       " 1,\n",
       " 4,\n",
       " 7,\n",
       " 6,\n",
       " 3,\n",
       " 3,\n",
       " 9,\n",
       " 4]"
      ]
     },
     "execution_count": 51,
     "metadata": {},
     "output_type": "execute_result"
    }
   ],
   "source": [
    "test_data = np.load('./TestDeployment/test_data.npy')\n",
    "\n",
    "test_samples = json.dumps({\"data\": test_data.tolist()})\n",
    "test_samples = bytes(test_samples, encoding='utf8')\n",
    "\n",
    "# predict using the deployed model\n",
    "result = aks_service.run(input_data=test_samples)\n",
    "\n",
    "result"
   ]
  },
  {
   "cell_type": "code",
   "execution_count": 49,
   "metadata": {},
   "outputs": [
    {
     "name": "stdout",
     "output_type": "stream",
     "text": [
      "http://52.229.21.121:80/api/v1/service/mnist-webapp-service-prod/score\n",
      "('juPUUzSsnEQxw6ARErXlzHU4lxTwiDI5', 'jXEGOYyoY7s28YtSfWoqecBpaRgcj1ub')\n"
     ]
    }
   ],
   "source": [
    "print(aks_service.scoring_uri)\n",
    "print(aks_service.get_keys())"
   ]
  },
  {
   "cell_type": "code",
   "execution_count": null,
   "metadata": {},
   "outputs": [],
   "source": []
  }
 ],
 "metadata": {
  "kernelspec": {
   "display_name": "Python [conda env:amlmm] *",
   "language": "python",
   "name": "conda-env-amlmm-py"
  },
  "language_info": {
   "codemirror_mode": {
    "name": "ipython",
    "version": 3
   },
   "file_extension": ".py",
   "mimetype": "text/x-python",
   "name": "python",
   "nbconvert_exporter": "python",
   "pygments_lexer": "ipython3",
   "version": "3.7.6"
  }
 },
 "nbformat": 4,
 "nbformat_minor": 4
}
